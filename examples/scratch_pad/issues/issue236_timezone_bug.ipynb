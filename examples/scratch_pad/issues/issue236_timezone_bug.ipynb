{
 "cells": [
  {
   "cell_type": "code",
   "execution_count": 1,
   "metadata": {},
   "outputs": [],
   "source": [
    "# This allows multiple outputs from a single jupyter notebook cell:\n",
    "from IPython.core.interactiveshell import InteractiveShell\n",
    "InteractiveShell.ast_node_interactivity = \"all\""
   ]
  },
  {
   "cell_type": "code",
   "execution_count": 2,
   "metadata": {},
   "outputs": [
    {
     "data": {
      "text/plain": [
       "'0.24.2'"
      ]
     },
     "execution_count": 2,
     "metadata": {},
     "output_type": "execute_result"
    }
   ],
   "source": [
    "%matplotlib inline\n",
    "import pandas as pd\n",
    "pd.__version__  # for the record"
   ]
  },
  {
   "cell_type": "code",
   "execution_count": 3,
   "metadata": {},
   "outputs": [],
   "source": [
    "#import pickle\n",
    "import mplfinance as fplt\n",
    "import pandas as pd\n",
    "#df = pickle.load(open(\"issue236.df.data\", \"rb\"))"
   ]
  },
  {
   "cell_type": "code",
   "execution_count": 4,
   "metadata": {},
   "outputs": [],
   "source": [
    "#df.head()"
   ]
  },
  {
   "cell_type": "code",
   "execution_count": 5,
   "metadata": {},
   "outputs": [],
   "source": [
    "df = pd.read_csv('issue236.df.scratchdata',index_col=0,parse_dates=True)"
   ]
  },
  {
   "cell_type": "code",
   "execution_count": 6,
   "metadata": {},
   "outputs": [
    {
     "data": {
      "text/html": [
       "<div>\n",
       "<style scoped>\n",
       "    .dataframe tbody tr th:only-of-type {\n",
       "        vertical-align: middle;\n",
       "    }\n",
       "\n",
       "    .dataframe tbody tr th {\n",
       "        vertical-align: top;\n",
       "    }\n",
       "\n",
       "    .dataframe thead th {\n",
       "        text-align: right;\n",
       "    }\n",
       "</style>\n",
       "<table border=\"1\" class=\"dataframe\">\n",
       "  <thead>\n",
       "    <tr style=\"text-align: right;\">\n",
       "      <th></th>\n",
       "      <th>Open</th>\n",
       "      <th>High</th>\n",
       "      <th>Low</th>\n",
       "      <th>Close</th>\n",
       "      <th>Volume</th>\n",
       "      <th>vwap</th>\n",
       "    </tr>\n",
       "    <tr>\n",
       "      <th>Date</th>\n",
       "      <th></th>\n",
       "      <th></th>\n",
       "      <th></th>\n",
       "      <th></th>\n",
       "      <th></th>\n",
       "      <th></th>\n",
       "    </tr>\n",
       "  </thead>\n",
       "  <tbody>\n",
       "    <tr>\n",
       "      <th>2020-08-11 04:00:00-04:00</th>\n",
       "      <td>336.93</td>\n",
       "      <td>337.13</td>\n",
       "      <td>336.93</td>\n",
       "      <td>337.05</td>\n",
       "      <td>15800.0</td>\n",
       "      <td>337.0059</td>\n",
       "    </tr>\n",
       "    <tr>\n",
       "      <th>2020-08-11 04:01:00-04:00</th>\n",
       "      <td>337.00</td>\n",
       "      <td>337.04</td>\n",
       "      <td>336.99</td>\n",
       "      <td>336.99</td>\n",
       "      <td>3330.0</td>\n",
       "      <td>337.0265</td>\n",
       "    </tr>\n",
       "    <tr>\n",
       "      <th>2020-08-11 04:02:00-04:00</th>\n",
       "      <td>336.84</td>\n",
       "      <td>336.85</td>\n",
       "      <td>336.84</td>\n",
       "      <td>336.85</td>\n",
       "      <td>4378.0</td>\n",
       "      <td>336.8499</td>\n",
       "    </tr>\n",
       "    <tr>\n",
       "      <th>2020-08-11 04:04:00-04:00</th>\n",
       "      <td>336.84</td>\n",
       "      <td>336.84</td>\n",
       "      <td>336.79</td>\n",
       "      <td>336.79</td>\n",
       "      <td>400.0</td>\n",
       "      <td>336.8150</td>\n",
       "    </tr>\n",
       "    <tr>\n",
       "      <th>2020-08-11 04:07:00-04:00</th>\n",
       "      <td>336.88</td>\n",
       "      <td>336.89</td>\n",
       "      <td>336.88</td>\n",
       "      <td>336.88</td>\n",
       "      <td>40800.0</td>\n",
       "      <td>336.8898</td>\n",
       "    </tr>\n",
       "  </tbody>\n",
       "</table>\n",
       "</div>"
      ],
      "text/plain": [
       "                             Open    High     Low   Close   Volume      vwap\n",
       "Date                                                                        \n",
       "2020-08-11 04:00:00-04:00  336.93  337.13  336.93  337.05  15800.0  337.0059\n",
       "2020-08-11 04:01:00-04:00  337.00  337.04  336.99  336.99   3330.0  337.0265\n",
       "2020-08-11 04:02:00-04:00  336.84  336.85  336.84  336.85   4378.0  336.8499\n",
       "2020-08-11 04:04:00-04:00  336.84  336.84  336.79  336.79    400.0  336.8150\n",
       "2020-08-11 04:07:00-04:00  336.88  336.89  336.88  336.88  40800.0  336.8898"
      ]
     },
     "execution_count": 6,
     "metadata": {},
     "output_type": "execute_result"
    }
   ],
   "source": [
    "df"
   ]
  },
  {
   "cell_type": "code",
   "execution_count": 7,
   "metadata": {},
   "outputs": [
    {
     "data": {
      "text/plain": [
       "DatetimeIndex(['2020-08-11 04:00:00-04:00', '2020-08-11 04:01:00-04:00',\n",
       "               '2020-08-11 04:02:00-04:00', '2020-08-11 04:04:00-04:00',\n",
       "               '2020-08-11 04:07:00-04:00'],\n",
       "              dtype='datetime64[ns, pytz.FixedOffset(-240)]', name='Date', freq=None)"
      ]
     },
     "execution_count": 7,
     "metadata": {},
     "output_type": "execute_result"
    }
   ],
   "source": [
    "df.index"
   ]
  },
  {
   "cell_type": "code",
   "execution_count": 8,
   "metadata": {},
   "outputs": [
    {
     "data": {
      "text/plain": [
       "array(['2020-08-11T08:00:00.000000000', '2020-08-11T08:01:00.000000000',\n",
       "       '2020-08-11T08:02:00.000000000', '2020-08-11T08:04:00.000000000',\n",
       "       '2020-08-11T08:07:00.000000000'], dtype='datetime64[ns]')"
      ]
     },
     "execution_count": 8,
     "metadata": {},
     "output_type": "execute_result"
    }
   ],
   "source": [
    "df.index.values"
   ]
  },
  {
   "cell_type": "code",
   "execution_count": 16,
   "metadata": {},
   "outputs": [
    {
     "name": "stdout",
     "output_type": "stream",
     "text": [
      "                             Open    High     Low   Close   Volume      vwap\n",
      "Date                                                                        \n",
      "2020-08-11 04:00:00-04:00  336.93  337.13  336.93  337.05  15800.0  337.0059\n",
      "2020-08-11 04:01:00-04:00  337.00  337.04  336.99  336.99   3330.0  337.0265\n",
      "2020-08-11 04:02:00-04:00  336.84  336.85  336.84  336.85   4378.0  336.8499\n",
      "2020-08-11 04:04:00-04:00  336.84  336.84  336.79  336.79    400.0  336.8150\n",
      "2020-08-11 04:07:00-04:00  336.88  336.89  336.88  336.88  40800.0  336.8898\n"
     ]
    },
    {
     "data": {
      "image/png": "[encoded data removed]",
      "text/plain": [
       "<Figure size 600x431.25 with 2 Axes>"
      ]
     },
     "metadata": {},
     "output_type": "display_data"
    },
    {
     "data": {
      "image/png": "[encoded data removed]",
      "text/plain": [
       "<Figure size 600x431.25 with 2 Axes>"
      ]
     },
     "metadata": {},
     "output_type": "display_data"
    }
   ],
   "source": [
    "print(df)\n",
    "fplt.plot(df,type='candle',style='charles',title='SPY',ylabel='Price ($)',figscale=0.75,tz_localize=False)\n",
    "fplt.plot(df,type='candle',style='charles',title='SPY',ylabel='Price ($)',figscale=0.75)"
   ]
  },
  {
   "cell_type": "code",
   "execution_count": 10,
   "metadata": {},
   "outputs": [
    {
     "name": "stdout",
     "output_type": "stream",
     "text": [
      "0.12.7a3 /Users/Dino/code/mplfinance/src/mplfinance/__init__.py\n"
     ]
    }
   ],
   "source": [
    "print(fplt.__version__,fplt.__file__)"
   ]
  },
  {
   "cell_type": "code",
   "execution_count": 11,
   "metadata": {},
   "outputs": [
    {
     "ename": "SyntaxError",
     "evalue": "invalid syntax (<ipython-input-11-a6774c8535dd>, line 1)",
     "output_type": "error",
     "traceback": [
      "\u001b[1;36m  File \u001b[1;32m\"<ipython-input-11-a6774c8535dd>\"\u001b[1;36m, line \u001b[1;32m1\u001b[0m\n\u001b[1;33m    STOP HERE\u001b[0m\n\u001b[1;37m            ^\u001b[0m\n\u001b[1;31mSyntaxError\u001b[0m\u001b[1;31m:\u001b[0m invalid syntax\n"
     ]
    }
   ],
   "source": [
    "STOP HERE"
   ]
  },
  {
   "cell_type": "code",
   "execution_count": null,
   "metadata": {},
   "outputs": [],
   "source": [
    "sdf = df['Close']\n",
    "sdf\n",
    "sdf.plot()"
   ]
  },
  {
   "cell_type": "code",
   "execution_count": null,
   "metadata": {},
   "outputs": [],
   "source": [
    "import matplotlib.pyplot as plt"
   ]
  },
  {
   "cell_type": "code",
   "execution_count": null,
   "metadata": {},
   "outputs": [],
   "source": [
    "x = df.index.values\n",
    "y = df.Close.values\n",
    "x\n",
    "y"
   ]
  },
  {
   "cell_type": "code",
   "execution_count": null,
   "metadata": {},
   "outputs": [],
   "source": [
    "plt.plot(x,y)"
   ]
  },
  {
   "cell_type": "code",
   "execution_count": null,
   "metadata": {},
   "outputs": [],
   "source": [
    "sdf.index"
   ]
  },
  {
   "cell_type": "code",
   "execution_count": null,
   "metadata": {},
   "outputs": [],
   "source": [
    "dts = sdf.index.to_pydatetime()"
   ]
  },
  {
   "cell_type": "code",
   "execution_count": null,
   "metadata": {},
   "outputs": [],
   "source": [
    "type(dts)\n",
    "dts"
   ]
  },
  {
   "cell_type": "code",
   "execution_count": null,
   "metadata": {},
   "outputs": [],
   "source": [
    "for ix, d in enumerate(dts):\n",
    "    dts[ix] = d.replace(tzinfo=None)"
   ]
  },
  {
   "cell_type": "code",
   "execution_count": null,
   "metadata": {},
   "outputs": [],
   "source": [
    "dts"
   ]
  },
  {
   "cell_type": "code",
   "execution_count": null,
   "metadata": {},
   "outputs": [],
   "source": [
    "x = dts\n",
    "y = df.Close.values"
   ]
  },
  {
   "cell_type": "code",
   "execution_count": null,
   "metadata": {},
   "outputs": [],
   "source": [
    "plt.plot(x,y)"
   ]
  },
  {
   "cell_type": "code",
   "execution_count": null,
   "metadata": {},
   "outputs": [],
   "source": []
  }
 ],
 "metadata": {
  "kernelspec": {
   "display_name": "Python 3",
   "language": "python",
   "name": "python3"
  },
  "language_info": {
   "codemirror_mode": {
    "name": "ipython",
    "version": 3
   },
   "file_extension": ".py",
   "mimetype": "text/x-python",
   "name": "python",
   "nbconvert_exporter": "python",
   "pygments_lexer": "ipython3",
   "version": "3.6.8"
  }
 },
 "nbformat": 4,
 "nbformat_minor": 2
}
