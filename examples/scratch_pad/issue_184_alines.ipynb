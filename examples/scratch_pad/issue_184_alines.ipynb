{
 "cells": [
  {
   "cell_type": "code",
   "execution_count": 1,
   "metadata": {},
   "outputs": [],
   "source": [
    "# This allows multiple outputs from a single jupyter notebook cell:\n",
    "from IPython.core.interactiveshell import InteractiveShell\n",
    "InteractiveShell.ast_node_interactivity = \"all\""
   ]
  },
  {
   "cell_type": "code",
   "execution_count": 2,
   "metadata": {},
   "outputs": [
    {
     "data": {
      "text/plain": [
       "'1.0.3'"
      ]
     },
     "execution_count": 2,
     "metadata": {},
     "output_type": "execute_result"
    }
   ],
   "source": [
    "%matplotlib inline\n",
    "import pandas as pd\n",
    "pd.__version__  # for the record"
   ]
  },
  {
   "cell_type": "code",
   "execution_count": 3,
   "metadata": {},
   "outputs": [
    {
     "data": {
      "text/plain": [
       "(252, 9)"
      ]
     },
     "execution_count": 3,
     "metadata": {},
     "output_type": "execute_result"
    },
    {
     "data": {
      "text/html": [
       "<div>\n",
       "<style scoped>\n",
       "    .dataframe tbody tr th:only-of-type {\n",
       "        vertical-align: middle;\n",
       "    }\n",
       "\n",
       "    .dataframe tbody tr th {\n",
       "        vertical-align: top;\n",
       "    }\n",
       "\n",
       "    .dataframe thead th {\n",
       "        text-align: right;\n",
       "    }\n",
       "</style>\n",
       "<table border=\"1\" class=\"dataframe\">\n",
       "  <thead>\n",
       "    <tr style=\"text-align: right;\">\n",
       "      <th></th>\n",
       "      <th>Open</th>\n",
       "      <th>High</th>\n",
       "      <th>Low</th>\n",
       "      <th>Close</th>\n",
       "      <th>Adj Close</th>\n",
       "      <th>Volume</th>\n",
       "      <th>UpperB</th>\n",
       "      <th>LowerB</th>\n",
       "      <th>PercentB</th>\n",
       "    </tr>\n",
       "    <tr>\n",
       "      <th>Date</th>\n",
       "      <th></th>\n",
       "      <th></th>\n",
       "      <th></th>\n",
       "      <th></th>\n",
       "      <th></th>\n",
       "      <th></th>\n",
       "      <th></th>\n",
       "      <th></th>\n",
       "      <th></th>\n",
       "    </tr>\n",
       "  </thead>\n",
       "  <tbody>\n",
       "    <tr>\n",
       "      <th>2011-07-01</th>\n",
       "      <td>132.089996</td>\n",
       "      <td>134.100006</td>\n",
       "      <td>131.779999</td>\n",
       "      <td>133.919998</td>\n",
       "      <td>117.161659</td>\n",
       "      <td>202385700</td>\n",
       "      <td>132.373927</td>\n",
       "      <td>125.316073</td>\n",
       "      <td>1.219057</td>\n",
       "    </tr>\n",
       "    <tr>\n",
       "      <th>2011-07-05</th>\n",
       "      <td>133.779999</td>\n",
       "      <td>134.080002</td>\n",
       "      <td>133.389999</td>\n",
       "      <td>133.809998</td>\n",
       "      <td>117.065437</td>\n",
       "      <td>165936000</td>\n",
       "      <td>133.254297</td>\n",
       "      <td>124.912703</td>\n",
       "      <td>1.066618</td>\n",
       "    </tr>\n",
       "    <tr>\n",
       "      <th>2011-07-06</th>\n",
       "      <td>133.490005</td>\n",
       "      <td>134.139999</td>\n",
       "      <td>133.110001</td>\n",
       "      <td>133.970001</td>\n",
       "      <td>117.205429</td>\n",
       "      <td>143331600</td>\n",
       "      <td>134.040915</td>\n",
       "      <td>124.627085</td>\n",
       "      <td>0.992467</td>\n",
       "    </tr>\n",
       "  </tbody>\n",
       "</table>\n",
       "</div>"
      ],
      "text/plain": [
       "                  Open        High         Low       Close   Adj Close  \\\n",
       "Date                                                                     \n",
       "2011-07-01  132.089996  134.100006  131.779999  133.919998  117.161659   \n",
       "2011-07-05  133.779999  134.080002  133.389999  133.809998  117.065437   \n",
       "2011-07-06  133.490005  134.139999  133.110001  133.970001  117.205429   \n",
       "\n",
       "               Volume      UpperB      LowerB  PercentB  \n",
       "Date                                                     \n",
       "2011-07-01  202385700  132.373927  125.316073  1.219057  \n",
       "2011-07-05  165936000  133.254297  124.912703  1.066618  \n",
       "2011-07-06  143331600  134.040915  124.627085  0.992467  "
      ]
     },
     "execution_count": 3,
     "metadata": {},
     "output_type": "execute_result"
    },
    {
     "data": {
      "text/html": [
       "<div>\n",
       "<style scoped>\n",
       "    .dataframe tbody tr th:only-of-type {\n",
       "        vertical-align: middle;\n",
       "    }\n",
       "\n",
       "    .dataframe tbody tr th {\n",
       "        vertical-align: top;\n",
       "    }\n",
       "\n",
       "    .dataframe thead th {\n",
       "        text-align: right;\n",
       "    }\n",
       "</style>\n",
       "<table border=\"1\" class=\"dataframe\">\n",
       "  <thead>\n",
       "    <tr style=\"text-align: right;\">\n",
       "      <th></th>\n",
       "      <th>Open</th>\n",
       "      <th>High</th>\n",
       "      <th>Low</th>\n",
       "      <th>Close</th>\n",
       "      <th>Adj Close</th>\n",
       "      <th>Volume</th>\n",
       "      <th>UpperB</th>\n",
       "      <th>LowerB</th>\n",
       "      <th>PercentB</th>\n",
       "    </tr>\n",
       "    <tr>\n",
       "      <th>Date</th>\n",
       "      <th></th>\n",
       "      <th></th>\n",
       "      <th></th>\n",
       "      <th></th>\n",
       "      <th></th>\n",
       "      <th></th>\n",
       "      <th></th>\n",
       "      <th></th>\n",
       "      <th></th>\n",
       "    </tr>\n",
       "  </thead>\n",
       "  <tbody>\n",
       "    <tr>\n",
       "      <th>2012-06-27</th>\n",
       "      <td>132.419998</td>\n",
       "      <td>133.429993</td>\n",
       "      <td>131.970001</td>\n",
       "      <td>133.169998</td>\n",
       "      <td>118.980804</td>\n",
       "      <td>108088000</td>\n",
       "      <td>136.447962</td>\n",
       "      <td>128.140042</td>\n",
       "      <td>0.605441</td>\n",
       "    </tr>\n",
       "    <tr>\n",
       "      <th>2012-06-28</th>\n",
       "      <td>132.289993</td>\n",
       "      <td>132.990005</td>\n",
       "      <td>131.279999</td>\n",
       "      <td>132.789993</td>\n",
       "      <td>118.641281</td>\n",
       "      <td>169242100</td>\n",
       "      <td>136.500761</td>\n",
       "      <td>128.219241</td>\n",
       "      <td>0.551922</td>\n",
       "    </tr>\n",
       "    <tr>\n",
       "      <th>2012-06-29</th>\n",
       "      <td>135.199997</td>\n",
       "      <td>136.270004</td>\n",
       "      <td>134.850006</td>\n",
       "      <td>136.100006</td>\n",
       "      <td>121.598610</td>\n",
       "      <td>212250900</td>\n",
       "      <td>136.721010</td>\n",
       "      <td>128.792993</td>\n",
       "      <td>0.921670</td>\n",
       "    </tr>\n",
       "  </tbody>\n",
       "</table>\n",
       "</div>"
      ],
      "text/plain": [
       "                  Open        High         Low       Close   Adj Close  \\\n",
       "Date                                                                     \n",
       "2012-06-27  132.419998  133.429993  131.970001  133.169998  118.980804   \n",
       "2012-06-28  132.289993  132.990005  131.279999  132.789993  118.641281   \n",
       "2012-06-29  135.199997  136.270004  134.850006  136.100006  121.598610   \n",
       "\n",
       "               Volume      UpperB      LowerB  PercentB  \n",
       "Date                                                     \n",
       "2012-06-27  108088000  136.447962  128.140042  0.605441  \n",
       "2012-06-28  169242100  136.500761  128.219241  0.551922  \n",
       "2012-06-29  212250900  136.721010  128.792993  0.921670  "
      ]
     },
     "execution_count": 3,
     "metadata": {},
     "output_type": "execute_result"
    }
   ],
   "source": [
    "df = pd.read_csv('../data/SPY_20110701_20120630_Bollinger.csv',index_col=0,parse_dates=True)\n",
    "df.shape\n",
    "df.head(3)\n",
    "df.tail(3)"
   ]
  },
  {
   "cell_type": "code",
   "execution_count": 4,
   "metadata": {},
   "outputs": [
    {
     "data": {
      "text/plain": [
       "'0.12.5a4'"
      ]
     },
     "execution_count": 4,
     "metadata": {},
     "output_type": "execute_result"
    },
    {
     "data": {
      "image/png": "[encoded data removed]",
      "text/plain": [
       "<Figure size 800x575 with 4 Axes>"
      ]
     },
     "metadata": {},
     "output_type": "display_data"
    }
   ],
   "source": [
    "import mplfinance as mpf\n",
    "mpf.__version__\n",
    "mpf.plot(df,volume=True)"
   ]
  },
  {
   "cell_type": "code",
   "execution_count": 5,
   "metadata": {},
   "outputs": [],
   "source": [
    "Timestamp = pd.Timestamp\n",
    "x = {'alines': ([[[Timestamp('2020-04-28 16:59:59.999000'), 7753.77], [Timestamp('2020-04-29 09:59:59.999000'), 7753.77]], [[Timestamp('2020-04-29 09:59:59.999000'), 7863.0], [Timestamp('2020-04-29 11:59:59.999000'), 7863.0]], [[Timestamp('2020-04-28 18:59:59.999000'), 7683.41], [Timestamp('2020-04-29 11:59:59.999000'), 7683.41]]], [[Timestamp('2020-04-28 17:59:59.999000'), 7764.1], [Timestamp('2020-04-28 19:59:59.999000'), 7665.21], [Timestamp('2020-04-29 03:59:59.999000'), 7770.0], [Timestamp('2020-04-29 06:59:59.999000'), 7710.05], [Timestamp('2020-04-29 09:59:59.999000'), 7874.75]])}"
   ]
  },
  {
   "cell_type": "code",
   "execution_count": 6,
   "metadata": {},
   "outputs": [],
   "source": [
    "import pprint"
   ]
  },
  {
   "cell_type": "code",
   "execution_count": 7,
   "metadata": {},
   "outputs": [
    {
     "name": "stdout",
     "output_type": "stream",
     "text": [
      "{'alines': ([[[Timestamp('2020-04-28 16:59:59.999000'), 7753.77],\n",
      "              [Timestamp('2020-04-29 09:59:59.999000'), 7753.77]],\n",
      "             [[Timestamp('2020-04-29 09:59:59.999000'), 7863.0],\n",
      "              [Timestamp('2020-04-29 11:59:59.999000'), 7863.0]],\n",
      "             [[Timestamp('2020-04-28 18:59:59.999000'), 7683.41],\n",
      "              [Timestamp('2020-04-29 11:59:59.999000'), 7683.41]]],\n",
      "            [[Timestamp('2020-04-28 17:59:59.999000'), 7764.1],\n",
      "             [Timestamp('2020-04-28 19:59:59.999000'), 7665.21],\n",
      "             [Timestamp('2020-04-29 03:59:59.999000'), 7770.0],\n",
      "             [Timestamp('2020-04-29 06:59:59.999000'), 7710.05],\n",
      "             [Timestamp('2020-04-29 09:59:59.999000'), 7874.75]])}\n"
     ]
    }
   ],
   "source": [
    "pprint.pprint(x)"
   ]
  },
  {
   "cell_type": "code",
   "execution_count": 8,
   "metadata": {},
   "outputs": [
    {
     "name": "stdout",
     "output_type": "stream",
     "text": [
      "{ 'alines': ( [ [ [Timestamp('2020-04-28 16:59:59.999000'), 7753.77],\n",
      "                  [Timestamp('2020-04-29 09:59:59.999000'), 7753.77]],\n",
      "                [ [Timestamp('2020-04-29 09:59:59.999000'), 7863.0],\n",
      "                  [Timestamp('2020-04-29 11:59:59.999000'), 7863.0]],\n",
      "                [ [Timestamp('2020-04-28 18:59:59.999000'), 7683.41],\n",
      "                  [Timestamp('2020-04-29 11:59:59.999000'), 7683.41]]],\n",
      "              [ [Timestamp('2020-04-28 17:59:59.999000'), 7764.1],\n",
      "                [Timestamp('2020-04-28 19:59:59.999000'), 7665.21],\n",
      "                [Timestamp('2020-04-29 03:59:59.999000'), 7770.0],\n",
      "                [Timestamp('2020-04-29 06:59:59.999000'), 7710.05],\n",
      "                [Timestamp('2020-04-29 09:59:59.999000'), 7874.75]])}\n"
     ]
    }
   ],
   "source": [
    "pprint.pprint(x,indent=2)"
   ]
  },
  {
   "cell_type": "code",
   "execution_count": 9,
   "metadata": {},
   "outputs": [],
   "source": [
    "s = pprint.pformat(x)"
   ]
  },
  {
   "cell_type": "code",
   "execution_count": 10,
   "metadata": {},
   "outputs": [
    {
     "name": "stdout",
     "output_type": "stream",
     "text": [
      "{'alines': ([[[Timestamp('2020-04-28 16:59:59.999000'), 7753.77],\n",
      "              [Timestamp('2020-04-29 09:59:59.999000'), 7753.77]],\n",
      "             [[Timestamp('2020-04-29 09:59:59.999000'), 7863.0],\n",
      "              [Timestamp('2020-04-29 11:59:59.999000'), 7863.0]],\n",
      "             [[Timestamp('2020-04-28 18:59:59.999000'), 7683.41],\n",
      "              [Timestamp('2020-04-29 11:59:59.999000'), 7683.41]]],\n",
      "            [[Timestamp('2020-04-28 17:59:59.999000'), 7764.1],\n",
      "             [Timestamp('2020-04-28 19:59:59.999000'), 7665.21],\n",
      "             [Timestamp('2020-04-29 03:59:59.999000'), 7770.0],\n",
      "             [Timestamp('2020-04-29 06:59:59.999000'), 7710.05],\n",
      "             [Timestamp('2020-04-29 09:59:59.999000'), 7874.75]])}\n"
     ]
    }
   ],
   "source": [
    "print(s)"
   ]
  },
  {
   "cell_type": "code",
   "execution_count": 11,
   "metadata": {},
   "outputs": [
    {
     "data": {
      "text/plain": [
       "\"{'alines':\""
      ]
     },
     "execution_count": 11,
     "metadata": {},
     "output_type": "execute_result"
    }
   ],
   "source": [
    "s[0:10]"
   ]
  },
  {
   "cell_type": "code",
   "execution_count": 12,
   "metadata": {},
   "outputs": [],
   "source": [
    "y = (\n",
    "{'alines': \n",
    " (\n",
    "     [\n",
    "         [\n",
    "             [Timestamp('2020-04-28 16:59:59.999000'), 7753.77],\n",
    "             [Timestamp('2020-04-29 09:59:59.999000'), 7753.77]\n",
    "         ],\n",
    "         [\n",
    "             [Timestamp('2020-04-29 09:59:59.999000'), 7863.0],\n",
    "             [Timestamp('2020-04-29 11:59:59.999000'), 7863.0]\n",
    "         ],\n",
    "         [\n",
    "             [Timestamp('2020-04-28 18:59:59.999000'), 7683.41],\n",
    "             [Timestamp('2020-04-29 11:59:59.999000'), 7683.41]\n",
    "         ]\n",
    "    ],\n",
    "    [\n",
    "        [Timestamp('2020-04-28 17:59:59.999000'), 7764.1],\n",
    "        [Timestamp('2020-04-28 19:59:59.999000'), 7665.21],\n",
    "        [Timestamp('2020-04-29 03:59:59.999000'), 7770.0],\n",
    "        [Timestamp('2020-04-29 06:59:59.999000'), 7710.05],\n",
    "        [Timestamp('2020-04-29 09:59:59.999000'), 7874.75]\n",
    "    ]\n",
    ")\n",
    "})"
   ]
  },
  {
   "cell_type": "code",
   "execution_count": 13,
   "metadata": {},
   "outputs": [
    {
     "data": {
      "text/plain": [
       "True"
      ]
     },
     "execution_count": 13,
     "metadata": {},
     "output_type": "execute_result"
    }
   ],
   "source": [
    "x == y"
   ]
  },
  {
   "cell_type": "code",
   "execution_count": 14,
   "metadata": {},
   "outputs": [],
   "source": [
    "one = [[1,2],[3,4]]\n",
    "two = [[5,6],[7,8,9]]"
   ]
  },
  {
   "cell_type": "code",
   "execution_count": 15,
   "metadata": {},
   "outputs": [
    {
     "data": {
      "text/plain": [
       "[[1, 2], [3, 4], [5, 6], [7, 8, 9]]"
      ]
     },
     "execution_count": 15,
     "metadata": {},
     "output_type": "execute_result"
    }
   ],
   "source": [
    "one+two"
   ]
  },
  {
   "cell_type": "code",
   "execution_count": 16,
   "metadata": {},
   "outputs": [],
   "source": [
    "one.append(two)"
   ]
  },
  {
   "cell_type": "code",
   "execution_count": 17,
   "metadata": {},
   "outputs": [
    {
     "data": {
      "text/plain": [
       "[[1, 2], [3, 4], [[5, 6], [7, 8, 9]]]"
      ]
     },
     "execution_count": 17,
     "metadata": {},
     "output_type": "execute_result"
    }
   ],
   "source": [
    "one"
   ]
  },
  {
   "cell_type": "code",
   "execution_count": 18,
   "metadata": {},
   "outputs": [
    {
     "data": {
      "text/plain": [
       "2"
      ]
     },
     "execution_count": 18,
     "metadata": {},
     "output_type": "execute_result"
    }
   ],
   "source": [
    "a = y['alines']\n",
    "len(a)"
   ]
  },
  {
   "cell_type": "code",
   "execution_count": 19,
   "metadata": {},
   "outputs": [
    {
     "data": {
      "text/plain": [
       "2"
      ]
     },
     "execution_count": 19,
     "metadata": {},
     "output_type": "execute_result"
    },
    {
     "data": {
      "text/plain": [
       "[[[Timestamp('2020-04-28 16:59:59.999000'), 7753.77],\n",
       "  [Timestamp('2020-04-29 09:59:59.999000'), 7753.77]],\n",
       " [[Timestamp('2020-04-29 09:59:59.999000'), 7863.0],\n",
       "  [Timestamp('2020-04-29 11:59:59.999000'), 7863.0]],\n",
       " [[Timestamp('2020-04-28 18:59:59.999000'), 7683.41],\n",
       "  [Timestamp('2020-04-29 11:59:59.999000'), 7683.41]]]"
      ]
     },
     "execution_count": 19,
     "metadata": {},
     "output_type": "execute_result"
    },
    {
     "data": {
      "text/plain": [
       "[[Timestamp('2020-04-28 17:59:59.999000'), 7764.1],\n",
       " [Timestamp('2020-04-28 19:59:59.999000'), 7665.21],\n",
       " [Timestamp('2020-04-29 03:59:59.999000'), 7770.0],\n",
       " [Timestamp('2020-04-29 06:59:59.999000'), 7710.05],\n",
       " [Timestamp('2020-04-29 09:59:59.999000'), 7874.75]]"
      ]
     },
     "execution_count": 19,
     "metadata": {},
     "output_type": "execute_result"
    }
   ],
   "source": [
    "len(a)\n",
    "a[0]\n",
    "a[1]"
   ]
  },
  {
   "cell_type": "code",
   "execution_count": 20,
   "metadata": {},
   "outputs": [],
   "source": [
    "#z = [a[1]] + a[0]\n",
    "#z = a[0] + [a[1]]\n",
    "z = a[1]\n",
    "z.append(a[0])"
   ]
  },
  {
   "cell_type": "code",
   "execution_count": 21,
   "metadata": {},
   "outputs": [
    {
     "data": {
      "text/plain": [
       "[[Timestamp('2020-04-28 17:59:59.999000'), 7764.1],\n",
       " [Timestamp('2020-04-28 19:59:59.999000'), 7665.21],\n",
       " [Timestamp('2020-04-29 03:59:59.999000'), 7770.0],\n",
       " [Timestamp('2020-04-29 06:59:59.999000'), 7710.05],\n",
       " [Timestamp('2020-04-29 09:59:59.999000'), 7874.75],\n",
       " [[[Timestamp('2020-04-28 16:59:59.999000'), 7753.77],\n",
       "   [Timestamp('2020-04-29 09:59:59.999000'), 7753.77]],\n",
       "  [[Timestamp('2020-04-29 09:59:59.999000'), 7863.0],\n",
       "   [Timestamp('2020-04-29 11:59:59.999000'), 7863.0]],\n",
       "  [[Timestamp('2020-04-28 18:59:59.999000'), 7683.41],\n",
       "   [Timestamp('2020-04-29 11:59:59.999000'), 7683.41]]]]"
      ]
     },
     "execution_count": 21,
     "metadata": {},
     "output_type": "execute_result"
    }
   ],
   "source": [
    "z"
   ]
  },
  {
   "cell_type": "code",
   "execution_count": 22,
   "metadata": {},
   "outputs": [
    {
     "data": {
      "text/html": [
       "<div>\n",
       "<style scoped>\n",
       "    .dataframe tbody tr th:only-of-type {\n",
       "        vertical-align: middle;\n",
       "    }\n",
       "\n",
       "    .dataframe tbody tr th {\n",
       "        vertical-align: top;\n",
       "    }\n",
       "\n",
       "    .dataframe thead th {\n",
       "        text-align: right;\n",
       "    }\n",
       "</style>\n",
       "<table border=\"1\" class=\"dataframe\">\n",
       "  <thead>\n",
       "    <tr style=\"text-align: right;\">\n",
       "      <th></th>\n",
       "      <th>Open</th>\n",
       "      <th>High</th>\n",
       "      <th>Low</th>\n",
       "      <th>Close</th>\n",
       "      <th>Adj Close</th>\n",
       "      <th>Volume</th>\n",
       "      <th>UpperB</th>\n",
       "      <th>LowerB</th>\n",
       "      <th>PercentB</th>\n",
       "    </tr>\n",
       "    <tr>\n",
       "      <th>Date</th>\n",
       "      <th></th>\n",
       "      <th></th>\n",
       "      <th></th>\n",
       "      <th></th>\n",
       "      <th></th>\n",
       "      <th></th>\n",
       "      <th></th>\n",
       "      <th></th>\n",
       "      <th></th>\n",
       "    </tr>\n",
       "  </thead>\n",
       "  <tbody>\n",
       "    <tr>\n",
       "      <th>2011-09-13</th>\n",
       "      <td>117.050003</td>\n",
       "      <td>118.180000</td>\n",
       "      <td>116.220001</td>\n",
       "      <td>117.739998</td>\n",
       "      <td>103.006386</td>\n",
       "      <td>272514700</td>\n",
       "      <td>123.438723</td>\n",
       "      <td>112.422277</td>\n",
       "      <td>0.482708</td>\n",
       "    </tr>\n",
       "    <tr>\n",
       "      <th>2011-09-14</th>\n",
       "      <td>118.339996</td>\n",
       "      <td>120.800003</td>\n",
       "      <td>116.720001</td>\n",
       "      <td>119.370003</td>\n",
       "      <td>104.432426</td>\n",
       "      <td>319389500</td>\n",
       "      <td>123.414633</td>\n",
       "      <td>112.424367</td>\n",
       "      <td>0.631981</td>\n",
       "    </tr>\n",
       "    <tr>\n",
       "      <th>2011-09-15</th>\n",
       "      <td>120.650002</td>\n",
       "      <td>121.470001</td>\n",
       "      <td>119.400002</td>\n",
       "      <td>121.430000</td>\n",
       "      <td>106.234634</td>\n",
       "      <td>326777200</td>\n",
       "      <td>123.674353</td>\n",
       "      <td>112.340648</td>\n",
       "      <td>0.801975</td>\n",
       "    </tr>\n",
       "    <tr>\n",
       "      <th>2011-09-16</th>\n",
       "      <td>121.290001</td>\n",
       "      <td>121.970001</td>\n",
       "      <td>120.320000</td>\n",
       "      <td>121.519997</td>\n",
       "      <td>106.863403</td>\n",
       "      <td>284528300</td>\n",
       "      <td>123.980997</td>\n",
       "      <td>112.735003</td>\n",
       "      <td>0.781167</td>\n",
       "    </tr>\n",
       "    <tr>\n",
       "      <th>2011-09-19</th>\n",
       "      <td>119.529999</td>\n",
       "      <td>120.930000</td>\n",
       "      <td>118.720001</td>\n",
       "      <td>120.309998</td>\n",
       "      <td>105.799347</td>\n",
       "      <td>241517000</td>\n",
       "      <td>123.733267</td>\n",
       "      <td>113.749733</td>\n",
       "      <td>0.657108</td>\n",
       "    </tr>\n",
       "    <tr>\n",
       "      <th>2011-09-20</th>\n",
       "      <td>120.820000</td>\n",
       "      <td>121.989998</td>\n",
       "      <td>120.010002</td>\n",
       "      <td>120.169998</td>\n",
       "      <td>105.676231</td>\n",
       "      <td>218932200</td>\n",
       "      <td>123.255558</td>\n",
       "      <td>114.971441</td>\n",
       "      <td>0.627533</td>\n",
       "    </tr>\n",
       "    <tr>\n",
       "      <th>2011-09-21</th>\n",
       "      <td>120.230003</td>\n",
       "      <td>120.599998</td>\n",
       "      <td>116.440002</td>\n",
       "      <td>116.629997</td>\n",
       "      <td>102.563187</td>\n",
       "      <td>316251300</td>\n",
       "      <td>123.240037</td>\n",
       "      <td>115.005962</td>\n",
       "      <td>0.197233</td>\n",
       "    </tr>\n",
       "    <tr>\n",
       "      <th>2011-09-22</th>\n",
       "      <td>113.250000</td>\n",
       "      <td>114.209999</td>\n",
       "      <td>111.300003</td>\n",
       "      <td>112.860001</td>\n",
       "      <td>99.247871</td>\n",
       "      <td>513911300</td>\n",
       "      <td>123.831112</td>\n",
       "      <td>113.892887</td>\n",
       "      <td>-0.103931</td>\n",
       "    </tr>\n",
       "    <tr>\n",
       "      <th>2011-09-23</th>\n",
       "      <td>112.110001</td>\n",
       "      <td>114.160004</td>\n",
       "      <td>112.019997</td>\n",
       "      <td>113.540001</td>\n",
       "      <td>99.845856</td>\n",
       "      <td>307242500</td>\n",
       "      <td>124.126148</td>\n",
       "      <td>113.323851</td>\n",
       "      <td>0.020010</td>\n",
       "    </tr>\n",
       "    <tr>\n",
       "      <th>2011-09-26</th>\n",
       "      <td>114.610001</td>\n",
       "      <td>116.400002</td>\n",
       "      <td>112.980003</td>\n",
       "      <td>116.239998</td>\n",
       "      <td>102.220230</td>\n",
       "      <td>260673700</td>\n",
       "      <td>124.144945</td>\n",
       "      <td>113.132054</td>\n",
       "      <td>0.282210</td>\n",
       "    </tr>\n",
       "  </tbody>\n",
       "</table>\n",
       "</div>"
      ],
      "text/plain": [
       "                  Open        High         Low       Close   Adj Close  \\\n",
       "Date                                                                     \n",
       "2011-09-13  117.050003  118.180000  116.220001  117.739998  103.006386   \n",
       "2011-09-14  118.339996  120.800003  116.720001  119.370003  104.432426   \n",
       "2011-09-15  120.650002  121.470001  119.400002  121.430000  106.234634   \n",
       "2011-09-16  121.290001  121.970001  120.320000  121.519997  106.863403   \n",
       "2011-09-19  119.529999  120.930000  118.720001  120.309998  105.799347   \n",
       "2011-09-20  120.820000  121.989998  120.010002  120.169998  105.676231   \n",
       "2011-09-21  120.230003  120.599998  116.440002  116.629997  102.563187   \n",
       "2011-09-22  113.250000  114.209999  111.300003  112.860001   99.247871   \n",
       "2011-09-23  112.110001  114.160004  112.019997  113.540001   99.845856   \n",
       "2011-09-26  114.610001  116.400002  112.980003  116.239998  102.220230   \n",
       "\n",
       "               Volume      UpperB      LowerB  PercentB  \n",
       "Date                                                     \n",
       "2011-09-13  272514700  123.438723  112.422277  0.482708  \n",
       "2011-09-14  319389500  123.414633  112.424367  0.631981  \n",
       "2011-09-15  326777200  123.674353  112.340648  0.801975  \n",
       "2011-09-16  284528300  123.980997  112.735003  0.781167  \n",
       "2011-09-19  241517000  123.733267  113.749733  0.657108  \n",
       "2011-09-20  218932200  123.255558  114.971441  0.627533  \n",
       "2011-09-21  316251300  123.240037  115.005962  0.197233  \n",
       "2011-09-22  513911300  123.831112  113.892887 -0.103931  \n",
       "2011-09-23  307242500  124.126148  113.323851  0.020010  \n",
       "2011-09-26  260673700  124.144945  113.132054  0.282210  "
      ]
     },
     "execution_count": 22,
     "metadata": {},
     "output_type": "execute_result"
    },
    {
     "data": {
      "text/html": [
       "<div>\n",
       "<style scoped>\n",
       "    .dataframe tbody tr th:only-of-type {\n",
       "        vertical-align: middle;\n",
       "    }\n",
       "\n",
       "    .dataframe tbody tr th {\n",
       "        vertical-align: top;\n",
       "    }\n",
       "\n",
       "    .dataframe thead th {\n",
       "        text-align: right;\n",
       "    }\n",
       "</style>\n",
       "<table border=\"1\" class=\"dataframe\">\n",
       "  <thead>\n",
       "    <tr style=\"text-align: right;\">\n",
       "      <th></th>\n",
       "      <th>Open</th>\n",
       "      <th>High</th>\n",
       "      <th>Low</th>\n",
       "      <th>Close</th>\n",
       "      <th>Adj Close</th>\n",
       "      <th>Volume</th>\n",
       "      <th>UpperB</th>\n",
       "      <th>LowerB</th>\n",
       "      <th>PercentB</th>\n",
       "    </tr>\n",
       "    <tr>\n",
       "      <th>Date</th>\n",
       "      <th></th>\n",
       "      <th></th>\n",
       "      <th></th>\n",
       "      <th></th>\n",
       "      <th></th>\n",
       "      <th></th>\n",
       "      <th></th>\n",
       "      <th></th>\n",
       "      <th></th>\n",
       "    </tr>\n",
       "  </thead>\n",
       "  <tbody>\n",
       "    <tr>\n",
       "      <th>2011-11-04</th>\n",
       "      <td>125.230003</td>\n",
       "      <td>125.699997</td>\n",
       "      <td>124.010002</td>\n",
       "      <td>125.480003</td>\n",
       "      <td>110.345772</td>\n",
       "      <td>249401600</td>\n",
       "      <td>128.770481</td>\n",
       "      <td>117.826522</td>\n",
       "      <td>0.699334</td>\n",
       "    </tr>\n",
       "    <tr>\n",
       "      <th>2011-11-07</th>\n",
       "      <td>125.389999</td>\n",
       "      <td>126.389999</td>\n",
       "      <td>124.199997</td>\n",
       "      <td>126.260002</td>\n",
       "      <td>111.031700</td>\n",
       "      <td>196617200</td>\n",
       "      <td>128.962442</td>\n",
       "      <td>118.302560</td>\n",
       "      <td>0.746485</td>\n",
       "    </tr>\n",
       "  </tbody>\n",
       "</table>\n",
       "</div>"
      ],
      "text/plain": [
       "                  Open        High         Low       Close   Adj Close  \\\n",
       "Date                                                                     \n",
       "2011-11-04  125.230003  125.699997  124.010002  125.480003  110.345772   \n",
       "2011-11-07  125.389999  126.389999  124.199997  126.260002  111.031700   \n",
       "\n",
       "               Volume      UpperB      LowerB  PercentB  \n",
       "Date                                                     \n",
       "2011-11-04  249401600  128.770481  117.826522  0.699334  \n",
       "2011-11-07  196617200  128.962442  118.302560  0.746485  "
      ]
     },
     "execution_count": 22,
     "metadata": {},
     "output_type": "execute_result"
    }
   ],
   "source": [
    "adf = df[50:90]\n",
    "adf.head(10)\n",
    "adf.tail(2)"
   ]
  },
  {
   "cell_type": "code",
   "execution_count": 23,
   "metadata": {},
   "outputs": [
    {
     "ename": "TypeError",
     "evalue": "kwarg \"alines\" validator returned False for value: \"[[Timestamp('2020-04-28 17:59:59.999000'), 7764.1], [Timestamp('2020-04-28 19:59:59.999000'), 7665.21], [Timestamp('2020-04-29 03:59:59.999000'), 7770.0], [Timestamp('2020-04-29 06:59:59.999000'), 7710.05], [Timestamp('2020-04-29 09:59:59.999000'), 7874.75], [[[Timestamp('2020-04-28 16:59:59.999000'), 7753.77], [Timestamp('2020-04-29 09:59:59.999000'), 7753.77]], [[Timestamp('2020-04-29 09:59:59.999000'), 7863.0], [Timestamp('2020-04-29 11:59:59.999000'), 7863.0]], [[Timestamp('2020-04-28 18:59:59.999000'), 7683.41], [Timestamp('2020-04-29 11:59:59.999000'), 7683.41]]]]\"\n    'Validator'   : lambda value: _alines_validator(value) },",
     "output_type": "error",
     "traceback": [
      "\u001b[0;31m---------------------------------------------------------------------------\u001b[0m",
      "\u001b[0;31mTypeError\u001b[0m                                 Traceback (most recent call last)",
      "\u001b[0;32m<ipython-input-23-7a1240466a10>\u001b[0m in \u001b[0;36m<module>\u001b[0;34m\u001b[0m\n\u001b[0;32m----> 1\u001b[0;31m \u001b[0mmpf\u001b[0m\u001b[0;34m.\u001b[0m\u001b[0mplot\u001b[0m\u001b[0;34m(\u001b[0m\u001b[0madf\u001b[0m\u001b[0;34m,\u001b[0m\u001b[0malines\u001b[0m\u001b[0;34m=\u001b[0m\u001b[0mz\u001b[0m\u001b[0;34m)\u001b[0m\u001b[0;34m\u001b[0m\u001b[0;34m\u001b[0m\u001b[0m\n\u001b[0m",
      "\u001b[0;32m~/code/mplfinance/src/mplfinance/plotting.py\u001b[0m in \u001b[0;36mplot\u001b[0;34m(data, **kwargs)\u001b[0m\n\u001b[1;32m    244\u001b[0m     \"\"\"\n\u001b[1;32m    245\u001b[0m \u001b[0;34m\u001b[0m\u001b[0m\n\u001b[0;32m--> 246\u001b[0;31m     \u001b[0mconfig\u001b[0m \u001b[0;34m=\u001b[0m \u001b[0m_process_kwargs\u001b[0m\u001b[0;34m(\u001b[0m\u001b[0mkwargs\u001b[0m\u001b[0;34m,\u001b[0m \u001b[0m_valid_plot_kwargs\u001b[0m\u001b[0;34m(\u001b[0m\u001b[0;34m)\u001b[0m\u001b[0;34m)\u001b[0m\u001b[0;34m\u001b[0m\u001b[0;34m\u001b[0m\u001b[0m\n\u001b[0m\u001b[1;32m    247\u001b[0m \u001b[0;34m\u001b[0m\u001b[0m\n\u001b[1;32m    248\u001b[0m     \u001b[0mdates\u001b[0m\u001b[0;34m,\u001b[0m\u001b[0mopens\u001b[0m\u001b[0;34m,\u001b[0m\u001b[0mhighs\u001b[0m\u001b[0;34m,\u001b[0m\u001b[0mlows\u001b[0m\u001b[0;34m,\u001b[0m\u001b[0mcloses\u001b[0m\u001b[0;34m,\u001b[0m\u001b[0mvolumes\u001b[0m \u001b[0;34m=\u001b[0m \u001b[0m_check_and_prepare_data\u001b[0m\u001b[0;34m(\u001b[0m\u001b[0mdata\u001b[0m\u001b[0;34m,\u001b[0m \u001b[0mconfig\u001b[0m\u001b[0;34m)\u001b[0m\u001b[0;34m\u001b[0m\u001b[0;34m\u001b[0m\u001b[0m\n",
      "\u001b[0;32m~/code/mplfinance/src/mplfinance/_arg_validators.py\u001b[0m in \u001b[0;36m_process_kwargs\u001b[0;34m(kwargs, vkwargs)\u001b[0m\n\u001b[1;32m    230\u001b[0m                 \u001b[0;32mimport\u001b[0m \u001b[0minspect\u001b[0m\u001b[0;34m\u001b[0m\u001b[0;34m\u001b[0m\u001b[0m\n\u001b[1;32m    231\u001b[0m                 \u001b[0mv\u001b[0m \u001b[0;34m=\u001b[0m \u001b[0minspect\u001b[0m\u001b[0;34m.\u001b[0m\u001b[0mgetsource\u001b[0m\u001b[0;34m(\u001b[0m\u001b[0mvkwargs\u001b[0m\u001b[0;34m[\u001b[0m\u001b[0mkey\u001b[0m\u001b[0;34m]\u001b[0m\u001b[0;34m[\u001b[0m\u001b[0;34m'Validator'\u001b[0m\u001b[0;34m]\u001b[0m\u001b[0;34m)\u001b[0m\u001b[0;34m.\u001b[0m\u001b[0mstrip\u001b[0m\u001b[0;34m(\u001b[0m\u001b[0;34m)\u001b[0m\u001b[0;34m\u001b[0m\u001b[0;34m\u001b[0m\u001b[0m\n\u001b[0;32m--> 232\u001b[0;31m                 \u001b[0;32mraise\u001b[0m \u001b[0mTypeError\u001b[0m\u001b[0;34m(\u001b[0m\u001b[0;34m'kwarg \"'\u001b[0m\u001b[0;34m+\u001b[0m\u001b[0mkey\u001b[0m\u001b[0;34m+\u001b[0m\u001b[0;34m'\" validator returned False for value: \"'\u001b[0m\u001b[0;34m+\u001b[0m\u001b[0mstr\u001b[0m\u001b[0;34m(\u001b[0m\u001b[0mvalue\u001b[0m\u001b[0;34m)\u001b[0m\u001b[0;34m+\u001b[0m\u001b[0;34m'\"\\n    '\u001b[0m\u001b[0;34m+\u001b[0m\u001b[0mv\u001b[0m\u001b[0;34m)\u001b[0m\u001b[0;34m\u001b[0m\u001b[0;34m\u001b[0m\u001b[0m\n\u001b[0m\u001b[1;32m    233\u001b[0m \u001b[0;34m\u001b[0m\u001b[0m\n\u001b[1;32m    234\u001b[0m        \u001b[0;31m# ---------------------------------------------------------------\u001b[0m\u001b[0;34m\u001b[0m\u001b[0;34m\u001b[0m\u001b[0;34m\u001b[0m\u001b[0m\n",
      "\u001b[0;31mTypeError\u001b[0m: kwarg \"alines\" validator returned False for value: \"[[Timestamp('2020-04-28 17:59:59.999000'), 7764.1], [Timestamp('2020-04-28 19:59:59.999000'), 7665.21], [Timestamp('2020-04-29 03:59:59.999000'), 7770.0], [Timestamp('2020-04-29 06:59:59.999000'), 7710.05], [Timestamp('2020-04-29 09:59:59.999000'), 7874.75], [[[Timestamp('2020-04-28 16:59:59.999000'), 7753.77], [Timestamp('2020-04-29 09:59:59.999000'), 7753.77]], [[Timestamp('2020-04-29 09:59:59.999000'), 7863.0], [Timestamp('2020-04-29 11:59:59.999000'), 7863.0]], [[Timestamp('2020-04-28 18:59:59.999000'), 7683.41], [Timestamp('2020-04-29 11:59:59.999000'), 7683.41]]]]\"\n    'Validator'   : lambda value: _alines_validator(value) },"
     ]
    }
   ],
   "source": [
    "mpf.plot(adf,alines=z)"
   ]
  },
  {
   "cell_type": "code",
   "execution_count": null,
   "metadata": {},
   "outputs": [],
   "source": [
    "#sop   = [('2011-09-13',7800),('2011-09-14',7801)]\n",
    "#sosop = [[('2011-09-15',7802),('2011-09-16',7803)],[('2011-09-19',7804),('2011-09-32',7805)]]"
   ]
  },
  {
   "cell_type": "code",
   "execution_count": 24,
   "metadata": {},
   "outputs": [],
   "source": [
    "sop   = [('x1','y1'),('x2','y2')]\n",
    "sosop = [[('x3','y3'),('x4','y4')],[('x5','y5'),('x6','y6')]]"
   ]
  },
  {
   "cell_type": "code",
   "execution_count": 25,
   "metadata": {},
   "outputs": [
    {
     "data": {
      "text/plain": [
       "[('x1', 'y1'),\n",
       " ('x2', 'y2'),\n",
       " [('x3', 'y3'), ('x4', 'y4')],\n",
       " [('x5', 'y5'), ('x6', 'y6')]]"
      ]
     },
     "execution_count": 25,
     "metadata": {},
     "output_type": "execute_result"
    }
   ],
   "source": [
    "sop + sosop"
   ]
  },
  {
   "cell_type": "code",
   "execution_count": 26,
   "metadata": {},
   "outputs": [
    {
     "data": {
      "text/plain": [
       "[[('x3', 'y3'), ('x4', 'y4')],\n",
       " [('x5', 'y5'), ('x6', 'y6')],\n",
       " ('x1', 'y1'),\n",
       " ('x2', 'y2')]"
      ]
     },
     "execution_count": 26,
     "metadata": {},
     "output_type": "execute_result"
    }
   ],
   "source": [
    "sosop + sop"
   ]
  },
  {
   "cell_type": "code",
   "execution_count": 27,
   "metadata": {},
   "outputs": [
    {
     "data": {
      "text/plain": [
       "[[('x3', 'y3'), ('x4', 'y4')],\n",
       " [('x5', 'y5'), ('x6', 'y6')],\n",
       " [('x1', 'y1'), ('x2', 'y2')]]"
      ]
     },
     "execution_count": 27,
     "metadata": {},
     "output_type": "execute_result"
    }
   ],
   "source": [
    "sosop + [sop]"
   ]
  },
  {
   "cell_type": "code",
   "execution_count": 28,
   "metadata": {},
   "outputs": [
    {
     "data": {
      "text/plain": [
       "[[('x1', 'y1'), ('x2', 'y2')],\n",
       " [('x3', 'y3'), ('x4', 'y4')],\n",
       " [('x5', 'y5'), ('x6', 'y6')]]"
      ]
     },
     "execution_count": 28,
     "metadata": {},
     "output_type": "execute_result"
    }
   ],
   "source": [
    "[sop] + sosop"
   ]
  },
  {
   "cell_type": "code",
   "execution_count": 29,
   "metadata": {},
   "outputs": [
    {
     "data": {
      "text/plain": [
       "[[('x3', 'y3'), ('x4', 'y4')],\n",
       " [('x5', 'y5'), ('x6', 'y6')],\n",
       " [('x1', 'y1'), ('x2', 'y2')]]"
      ]
     },
     "execution_count": 29,
     "metadata": {},
     "output_type": "execute_result"
    }
   ],
   "source": [
    "zsosop = sosop.copy()\n",
    "zsosop.append(sop)\n",
    "zsosop"
   ]
  },
  {
   "cell_type": "code",
   "execution_count": 30,
   "metadata": {},
   "outputs": [
    {
     "data": {
      "text/plain": [
       "[('x1', 'y1'),\n",
       " ('x2', 'y2'),\n",
       " [[('x3', 'y3'), ('x4', 'y4')], [('x5', 'y5'), ('x6', 'y6')]]]"
      ]
     },
     "execution_count": 30,
     "metadata": {},
     "output_type": "execute_result"
    }
   ],
   "source": [
    "zsop = sop.copy()\n",
    "zsop.append(sosop)\n",
    "zsop"
   ]
  },
  {
   "cell_type": "code",
   "execution_count": 31,
   "metadata": {},
   "outputs": [
    {
     "data": {
      "text/plain": [
       "[('x1', 'y1'), ('x2', 'y2')]"
      ]
     },
     "execution_count": 31,
     "metadata": {},
     "output_type": "execute_result"
    }
   ],
   "source": [
    "sop"
   ]
  },
  {
   "cell_type": "code",
   "execution_count": 32,
   "metadata": {},
   "outputs": [],
   "source": [
    "from mplfinance._arg_validators import _alines_validator as valid"
   ]
  },
  {
   "cell_type": "code",
   "execution_count": 33,
   "metadata": {},
   "outputs": [
    {
     "data": {
      "text/plain": [
       "8"
      ]
     },
     "execution_count": 33,
     "metadata": {},
     "output_type": "execute_result"
    },
    {
     "data": {
      "text/plain": [
       "8"
      ]
     },
     "execution_count": 33,
     "metadata": {},
     "output_type": "execute_result"
    }
   ],
   "source": [
    "x = ['2011-09-13','2011-09-14','2011-09-15','2011-09-16','2011-09-19','2011-09-20','2011-09-21','2011-09-22']\n",
    "y = [120,121,122,123,124,125,126,127]\n",
    "len(x)\n",
    "len(y)"
   ]
  },
  {
   "cell_type": "code",
   "execution_count": 34,
   "metadata": {},
   "outputs": [
    {
     "data": {
      "text/plain": [
       "[('2011-09-13', 120), ('2011-09-14', 121), ('2011-09-15', 122)]"
      ]
     },
     "execution_count": 34,
     "metadata": {},
     "output_type": "execute_result"
    }
   ],
   "source": [
    "sop = [(x[0],y[0]),(x[1],y[1]),(x[2],y[2])]\n",
    "sop"
   ]
  },
  {
   "cell_type": "code",
   "execution_count": 35,
   "metadata": {},
   "outputs": [
    {
     "data": {
      "text/plain": [
       "[[('2011-09-16', 123), ('2011-09-19', 124), ('2011-09-20', 125)],\n",
       " [('2011-09-21', 126), ('2011-09-22', 127)]]"
      ]
     },
     "execution_count": 35,
     "metadata": {},
     "output_type": "execute_result"
    }
   ],
   "source": [
    "sosop = [[(x[3],y[3]),(x[4],y[4]),(x[5],y[5])],\n",
    "         [(x[6],y[6]),(x[7],y[7])]\n",
    "        ]\n",
    "sosop"
   ]
  },
  {
   "cell_type": "code",
   "execution_count": 36,
   "metadata": {},
   "outputs": [
    {
     "data": {
      "text/plain": [
       "True"
      ]
     },
     "execution_count": 36,
     "metadata": {},
     "output_type": "execute_result"
    }
   ],
   "source": [
    "valid(sop)"
   ]
  },
  {
   "cell_type": "code",
   "execution_count": 37,
   "metadata": {},
   "outputs": [
    {
     "data": {
      "text/plain": [
       "True"
      ]
     },
     "execution_count": 37,
     "metadata": {},
     "output_type": "execute_result"
    }
   ],
   "source": [
    "valid(sosop)"
   ]
  },
  {
   "cell_type": "code",
   "execution_count": 38,
   "metadata": {},
   "outputs": [
    {
     "data": {
      "text/plain": [
       "False"
      ]
     },
     "execution_count": 38,
     "metadata": {},
     "output_type": "execute_result"
    }
   ],
   "source": [
    "valid(sop+sosop)"
   ]
  },
  {
   "cell_type": "code",
   "execution_count": 39,
   "metadata": {},
   "outputs": [
    {
     "data": {
      "text/plain": [
       "True"
      ]
     },
     "execution_count": 39,
     "metadata": {},
     "output_type": "execute_result"
    }
   ],
   "source": [
    "valid([sop]+sosop)"
   ]
  },
  {
   "cell_type": "code",
   "execution_count": 40,
   "metadata": {},
   "outputs": [
    {
     "data": {
      "text/plain": [
       "[('2011-09-13', 120),\n",
       " ('2011-09-14', 121),\n",
       " ('2011-09-15', 122),\n",
       " [[('2011-09-16', 123), ('2011-09-19', 124), ('2011-09-20', 125)],\n",
       "  [('2011-09-21', 126), ('2011-09-22', 127)]]]"
      ]
     },
     "execution_count": 40,
     "metadata": {},
     "output_type": "execute_result"
    },
    {
     "data": {
      "text/plain": [
       "False"
      ]
     },
     "execution_count": 40,
     "metadata": {},
     "output_type": "execute_result"
    }
   ],
   "source": [
    "zsop = sop.copy()\n",
    "zsop.append(sosop)\n",
    "zsop\n",
    "valid(zsop)"
   ]
  },
  {
   "cell_type": "code",
   "execution_count": 41,
   "metadata": {},
   "outputs": [
    {
     "data": {
      "text/plain": [
       "[[('2011-09-16', 123), ('2011-09-19', 124), ('2011-09-20', 125)],\n",
       " [('2011-09-21', 126), ('2011-09-22', 127)],\n",
       " [('2011-09-13', 120), ('2011-09-14', 121), ('2011-09-15', 122)]]"
      ]
     },
     "execution_count": 41,
     "metadata": {},
     "output_type": "execute_result"
    },
    {
     "data": {
      "text/plain": [
       "True"
      ]
     },
     "execution_count": 41,
     "metadata": {},
     "output_type": "execute_result"
    }
   ],
   "source": [
    "zsosop = sosop.copy()\n",
    "zsosop.append(sop)\n",
    "zsosop\n",
    "valid(zsosop)"
   ]
  },
  {
   "cell_type": "code",
   "execution_count": null,
   "metadata": {},
   "outputs": [],
   "source": []
  }
 ],
 "metadata": {
  "kernelspec": {
   "display_name": "Python 3",
   "language": "python",
   "name": "python3"
  },
  "language_info": {
   "codemirror_mode": {
    "name": "ipython",
    "version": 3
   },
   "file_extension": ".py",
   "mimetype": "text/x-python",
   "name": "python",
   "nbconvert_exporter": "python",
   "pygments_lexer": "ipython3",
   "version": "3.7.4"
  }
 },
 "nbformat": 4,
 "nbformat_minor": 2
}
